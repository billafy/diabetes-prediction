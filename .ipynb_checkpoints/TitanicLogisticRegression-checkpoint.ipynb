{
 "cells": [
  {
   "cell_type": "code",
   "execution_count": 1,
   "id": "b5aa8d22",
   "metadata": {},
   "outputs": [],
   "source": [
    "import numpy as np\n",
    "import pandas as pd\n",
    "import matplotlib.pyplot as plt\n",
    "\n",
    "import seaborn as sns"
   ]
  },
  {
   "cell_type": "code",
   "execution_count": 2,
   "id": "7025b75b",
   "metadata": {},
   "outputs": [],
   "source": [
    "data = pd.read_csv('./diabetes.csv')\n",
    "\n",
    "correlations = data.corr()['Outcome']\n",
    "\n",
    "features = correlations[abs(correlations) >= 0.1]\n",
    "featureNames = [name for name, cor in features.iteritems()]\n",
    "\n",
    "featureNames.remove('Outcome')"
   ]
  },
  {
   "cell_type": "code",
   "execution_count": 3,
   "id": "f3dd1f46",
   "metadata": {},
   "outputs": [],
   "source": [
    "from sklearn.model_selection import train_test_split\n",
    "\n",
    "mX = data[featureNames]\n",
    "my = data['Outcome']\n",
    "\n",
    "featuresMean = np.mean(mX)\n",
    "featuresSigma = np.std(mX)\n",
    "\n",
    "mX = (mX - featuresMean) / featuresSigma\n",
    "\n",
    "mX.insert(0, 'BIAS', np.ones(len(mX)))\n",
    "\n",
    "X, X_test, y, y_test = train_test_split(mX, my, test_size = 0.3, random_state = 3)\n",
    "\n",
    "(m, n) = X.shape"
   ]
  },
  {
   "cell_type": "code",
   "execution_count": 4,
   "id": "b631141f",
   "metadata": {},
   "outputs": [],
   "source": [
    "def hypothesis(theta, x) : \n",
    "    z = np.dot(x, theta)\n",
    "    h = 1 / (1 + np.exp(-z))\n",
    "    return h"
   ]
  },
  {
   "cell_type": "code",
   "execution_count": 5,
   "id": "c3f42858",
   "metadata": {},
   "outputs": [],
   "source": [
    "def costFunction(theta) : \n",
    "    h = hypothesis(theta, X)\n",
    "    i = np.where((h != 1) & (h != 0))\n",
    "    J =  (-1 / m) * sum((y.iloc[i] * np.log(h[i])) + ((1 - y.iloc[i]) * np.log(1 - h[i])))\n",
    "    return J"
   ]
  },
  {
   "cell_type": "code",
   "execution_count": 6,
   "id": "e481871e",
   "metadata": {},
   "outputs": [],
   "source": [
    "def differentialCostFunction(theta) : \n",
    "    d = np.sum((hypothesis(theta, X) - y).T * X.T, axis = 1)\n",
    "    return d"
   ]
  },
  {
   "cell_type": "code",
   "execution_count": 7,
   "id": "412a4ffc",
   "metadata": {},
   "outputs": [],
   "source": [
    "def gradientDescent() : \n",
    "    theta, alpha = np.zeros(n, dtype=np.float64), 0.01\n",
    "    J = costFunction(theta)\n",
    "    while True : \n",
    "        newTheta = theta - (alpha / m) * differentialCostFunction(theta)\n",
    "        newJ = costFunction(newTheta)\n",
    "        if newJ >= J or abs(newJ - J) <= 0.00001 : \n",
    "            break\n",
    "        else : \n",
    "            theta = newTheta\n",
    "            J = newJ\n",
    "    return theta"
   ]
  },
  {
   "cell_type": "code",
   "execution_count": 8,
   "id": "8466630d",
   "metadata": {},
   "outputs": [],
   "source": [
    "theta = gradientDescent()\n",
    "\n",
    "print(f'Parameters obtained by gradient descent : {theta}')"
   ]
  },
  {
   "cell_type": "code",
   "execution_count": 10,
   "id": "75fe4acd",
   "metadata": {},
   "outputs": [
    {
     "name": "stdout",
     "output_type": "stream",
     "text": [
      "Efficiency of the model 73.5930735930736%\n"
     ]
    }
   ],
   "source": [
    "threshold = 0.5\n",
    "predictions = hypothesis(theta, X_test)\n",
    "\n",
    "predictions[predictions > threshold] = 1\n",
    "predictions[predictions <= threshold] = 0\n",
    "\n",
    "dif = predictions - y_test\n",
    "\n",
    "correct = len(dif[dif == 0])\n",
    "\n",
    "print(f'Efficiency of the model {correct * 100 / len(y_test)}%')"
   ]
  }
 ],
 "metadata": {
  "kernelspec": {
   "display_name": "Python 3 (ipykernel)",
   "language": "python",
   "name": "python3"
  },
  "language_info": {
   "codemirror_mode": {
    "name": "ipython",
    "version": 3
   },
   "file_extension": ".py",
   "mimetype": "text/x-python",
   "name": "python",
   "nbconvert_exporter": "python",
   "pygments_lexer": "ipython3",
   "version": "3.9.6"
  }
 },
 "nbformat": 4,
 "nbformat_minor": 5
}
