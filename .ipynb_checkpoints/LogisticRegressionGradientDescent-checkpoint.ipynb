{
 "cells": [
  {
   "cell_type": "markdown",
   "id": "629ea5ea",
   "metadata": {},
   "source": [
    "# Diabetes prediction using Logistic Regression using a self-written gradient descent algorithm"
   ]
  },
  {
   "cell_type": "code",
   "execution_count": 390,
   "id": "b5aa8d22",
   "metadata": {},
   "outputs": [],
   "source": [
    "import numpy as np\n",
    "import pandas as pd\n",
    "import matplotlib.pyplot as plt\n",
    "\n",
    "import seaborn as sns"
   ]
  },
  {
   "cell_type": "markdown",
   "id": "938e2a6d",
   "metadata": {},
   "source": [
    "### Fetching the dataset and selecting features according to a fixed correlation threshold"
   ]
  },
  {
   "cell_type": "code",
   "execution_count": 391,
   "id": "7025b75b",
   "metadata": {},
   "outputs": [],
   "source": [
    "data = pd.read_csv('./diabetes.csv')\n",
    "\n",
    "correlations = data.corr()['Outcome']\n",
    "\n",
    "corThreshold = 0.1\n",
    "features = correlations[abs(correlations) >= corThreshold]\n",
    "featureNames = [name for name, cor in features.iteritems()]\n",
    "\n",
    "featureNames.remove('Outcome')"
   ]
  },
  {
   "cell_type": "code",
   "execution_count": 392,
   "id": "95e09f86",
   "metadata": {},
   "outputs": [
    {
     "name": "stdout",
     "output_type": "stream",
     "text": [
      "<class 'pandas.core.frame.DataFrame'>\n",
      "RangeIndex: 768 entries, 0 to 767\n",
      "Data columns (total 9 columns):\n",
      " #   Column                    Non-Null Count  Dtype  \n",
      "---  ------                    --------------  -----  \n",
      " 0   Pregnancies               768 non-null    int64  \n",
      " 1   Glucose                   768 non-null    int64  \n",
      " 2   BloodPressure             768 non-null    int64  \n",
      " 3   SkinThickness             768 non-null    int64  \n",
      " 4   Insulin                   768 non-null    int64  \n",
      " 5   BMI                       768 non-null    float64\n",
      " 6   DiabetesPedigreeFunction  768 non-null    float64\n",
      " 7   Age                       768 non-null    int64  \n",
      " 8   Outcome                   768 non-null    int64  \n",
      "dtypes: float64(2), int64(7)\n",
      "memory usage: 54.1 KB\n"
     ]
    }
   ],
   "source": [
    "data.info()"
   ]
  },
  {
   "cell_type": "code",
   "execution_count": 393,
   "id": "c5cda4a1",
   "metadata": {},
   "outputs": [
    {
     "data": {
      "text/html": [
       "<div>\n",
       "<style scoped>\n",
       "    .dataframe tbody tr th:only-of-type {\n",
       "        vertical-align: middle;\n",
       "    }\n",
       "\n",
       "    .dataframe tbody tr th {\n",
       "        vertical-align: top;\n",
       "    }\n",
       "\n",
       "    .dataframe thead th {\n",
       "        text-align: right;\n",
       "    }\n",
       "</style>\n",
       "<table border=\"1\" class=\"dataframe\">\n",
       "  <thead>\n",
       "    <tr style=\"text-align: right;\">\n",
       "      <th></th>\n",
       "      <th>Pregnancies</th>\n",
       "      <th>Glucose</th>\n",
       "      <th>BloodPressure</th>\n",
       "      <th>SkinThickness</th>\n",
       "      <th>Insulin</th>\n",
       "      <th>BMI</th>\n",
       "      <th>DiabetesPedigreeFunction</th>\n",
       "      <th>Age</th>\n",
       "      <th>Outcome</th>\n",
       "    </tr>\n",
       "  </thead>\n",
       "  <tbody>\n",
       "    <tr>\n",
       "      <th>count</th>\n",
       "      <td>768.000000</td>\n",
       "      <td>768.000000</td>\n",
       "      <td>768.000000</td>\n",
       "      <td>768.000000</td>\n",
       "      <td>768.000000</td>\n",
       "      <td>768.000000</td>\n",
       "      <td>768.000000</td>\n",
       "      <td>768.000000</td>\n",
       "      <td>768.000000</td>\n",
       "    </tr>\n",
       "    <tr>\n",
       "      <th>mean</th>\n",
       "      <td>3.845052</td>\n",
       "      <td>120.894531</td>\n",
       "      <td>69.105469</td>\n",
       "      <td>20.536458</td>\n",
       "      <td>79.799479</td>\n",
       "      <td>31.992578</td>\n",
       "      <td>0.471876</td>\n",
       "      <td>33.240885</td>\n",
       "      <td>0.348958</td>\n",
       "    </tr>\n",
       "    <tr>\n",
       "      <th>std</th>\n",
       "      <td>3.369578</td>\n",
       "      <td>31.972618</td>\n",
       "      <td>19.355807</td>\n",
       "      <td>15.952218</td>\n",
       "      <td>115.244002</td>\n",
       "      <td>7.884160</td>\n",
       "      <td>0.331329</td>\n",
       "      <td>11.760232</td>\n",
       "      <td>0.476951</td>\n",
       "    </tr>\n",
       "    <tr>\n",
       "      <th>min</th>\n",
       "      <td>0.000000</td>\n",
       "      <td>0.000000</td>\n",
       "      <td>0.000000</td>\n",
       "      <td>0.000000</td>\n",
       "      <td>0.000000</td>\n",
       "      <td>0.000000</td>\n",
       "      <td>0.078000</td>\n",
       "      <td>21.000000</td>\n",
       "      <td>0.000000</td>\n",
       "    </tr>\n",
       "    <tr>\n",
       "      <th>25%</th>\n",
       "      <td>1.000000</td>\n",
       "      <td>99.000000</td>\n",
       "      <td>62.000000</td>\n",
       "      <td>0.000000</td>\n",
       "      <td>0.000000</td>\n",
       "      <td>27.300000</td>\n",
       "      <td>0.243750</td>\n",
       "      <td>24.000000</td>\n",
       "      <td>0.000000</td>\n",
       "    </tr>\n",
       "    <tr>\n",
       "      <th>50%</th>\n",
       "      <td>3.000000</td>\n",
       "      <td>117.000000</td>\n",
       "      <td>72.000000</td>\n",
       "      <td>23.000000</td>\n",
       "      <td>30.500000</td>\n",
       "      <td>32.000000</td>\n",
       "      <td>0.372500</td>\n",
       "      <td>29.000000</td>\n",
       "      <td>0.000000</td>\n",
       "    </tr>\n",
       "    <tr>\n",
       "      <th>75%</th>\n",
       "      <td>6.000000</td>\n",
       "      <td>140.250000</td>\n",
       "      <td>80.000000</td>\n",
       "      <td>32.000000</td>\n",
       "      <td>127.250000</td>\n",
       "      <td>36.600000</td>\n",
       "      <td>0.626250</td>\n",
       "      <td>41.000000</td>\n",
       "      <td>1.000000</td>\n",
       "    </tr>\n",
       "    <tr>\n",
       "      <th>max</th>\n",
       "      <td>17.000000</td>\n",
       "      <td>199.000000</td>\n",
       "      <td>122.000000</td>\n",
       "      <td>99.000000</td>\n",
       "      <td>846.000000</td>\n",
       "      <td>67.100000</td>\n",
       "      <td>2.420000</td>\n",
       "      <td>81.000000</td>\n",
       "      <td>1.000000</td>\n",
       "    </tr>\n",
       "  </tbody>\n",
       "</table>\n",
       "</div>"
      ],
      "text/plain": [
       "       Pregnancies     Glucose  BloodPressure  SkinThickness     Insulin  \\\n",
       "count   768.000000  768.000000     768.000000     768.000000  768.000000   \n",
       "mean      3.845052  120.894531      69.105469      20.536458   79.799479   \n",
       "std       3.369578   31.972618      19.355807      15.952218  115.244002   \n",
       "min       0.000000    0.000000       0.000000       0.000000    0.000000   \n",
       "25%       1.000000   99.000000      62.000000       0.000000    0.000000   \n",
       "50%       3.000000  117.000000      72.000000      23.000000   30.500000   \n",
       "75%       6.000000  140.250000      80.000000      32.000000  127.250000   \n",
       "max      17.000000  199.000000     122.000000      99.000000  846.000000   \n",
       "\n",
       "              BMI  DiabetesPedigreeFunction         Age     Outcome  \n",
       "count  768.000000                768.000000  768.000000  768.000000  \n",
       "mean    31.992578                  0.471876   33.240885    0.348958  \n",
       "std      7.884160                  0.331329   11.760232    0.476951  \n",
       "min      0.000000                  0.078000   21.000000    0.000000  \n",
       "25%     27.300000                  0.243750   24.000000    0.000000  \n",
       "50%     32.000000                  0.372500   29.000000    0.000000  \n",
       "75%     36.600000                  0.626250   41.000000    1.000000  \n",
       "max     67.100000                  2.420000   81.000000    1.000000  "
      ]
     },
     "execution_count": 393,
     "metadata": {},
     "output_type": "execute_result"
    }
   ],
   "source": [
    "data.describe()"
   ]
  },
  {
   "cell_type": "markdown",
   "id": "5234b709",
   "metadata": {},
   "source": [
    "### Normalizing and splitting the dataset"
   ]
  },
  {
   "cell_type": "code",
   "execution_count": 394,
   "id": "f3dd1f46",
   "metadata": {},
   "outputs": [],
   "source": [
    "from sklearn.model_selection import train_test_split\n",
    "\n",
    "mX = data[featureNames]\n",
    "my = data['Outcome']\n",
    "\n",
    "featuresMean = np.mean(mX)\n",
    "featuresSigma = np.std(mX)\n",
    "\n",
    "mX = (mX - featuresMean) / featuresSigma\n",
    "\n",
    "mX.insert(0, 'BIAS', np.ones(len(mX)))\n",
    "\n",
    "X, X_test, y, y_test = train_test_split(mX, my, test_size = 0.3, random_state = 3)\n",
    "\n",
    "(m, n) = X.shape"
   ]
  },
  {
   "cell_type": "markdown",
   "id": "ce18e484",
   "metadata": {},
   "source": [
    "### Hypothesis function which predicts the probabilities (Sigmoid function)"
   ]
  },
  {
   "cell_type": "code",
   "execution_count": 395,
   "id": "282bd22c",
   "metadata": {},
   "outputs": [],
   "source": [
    "def hypothesis(theta, x) : \n",
    "    z = np.dot(x, theta)\n",
    "    h = 1 / (1 + np.exp(-z))\n",
    "    return h"
   ]
  },
  {
   "cell_type": "markdown",
   "id": "5f4af3c5",
   "metadata": {},
   "source": [
    "### Cost function"
   ]
  },
  {
   "cell_type": "code",
   "execution_count": 396,
   "id": "ec7550d9",
   "metadata": {},
   "outputs": [],
   "source": [
    "def costFunction(theta) : \n",
    "    h = hypothesis(theta, X)\n",
    "    i = np.where((h != 1) & (h != 0))\n",
    "    J =  (-1 / m) * sum((y.iloc[i] * np.log(h[i])) + ((1 - y.iloc[i]) * np.log(1 - h[i])))\n",
    "    return J"
   ]
  },
  {
   "cell_type": "code",
   "execution_count": 397,
   "id": "e481871e",
   "metadata": {},
   "outputs": [],
   "source": [
    "def differentialCostFunction(theta) : \n",
    "    d = np.sum((hypothesis(theta, X) - y).T * X.T, axis = 1)\n",
    "    return d"
   ]
  },
  {
   "cell_type": "markdown",
   "id": "3d195434",
   "metadata": {},
   "source": [
    "### Gradient descent which converges parameters near the global minimum"
   ]
  },
  {
   "cell_type": "code",
   "execution_count": 398,
   "id": "412a4ffc",
   "metadata": {},
   "outputs": [],
   "source": [
    "def gradientDescent() : \n",
    "    theta, alpha = np.zeros(n, dtype=np.float64), 0.01\n",
    "    J = costFunction(theta)\n",
    "    while True : \n",
    "        newTheta = theta - (alpha / m) * differentialCostFunction(theta)\n",
    "        newJ = costFunction(newTheta)\n",
    "        if newJ >= J or abs(newJ - J) <= 0.00001 : \n",
    "            break\n",
    "        else : \n",
    "            theta = newTheta\n",
    "            J = newJ\n",
    "    return theta"
   ]
  },
  {
   "cell_type": "code",
   "execution_count": 399,
   "id": "8466630d",
   "metadata": {
    "scrolled": true
   },
   "outputs": [
    {
     "name": "stdout",
     "output_type": "stream",
     "text": [
      "Parameters obtained by gradient descent : \n",
      "BIAS                       -0.818282\n",
      "Pregnancies                 0.292493\n",
      "Glucose                     0.886484\n",
      "Insulin                     0.007025\n",
      "BMI                         0.501330\n",
      "DiabetesPedigreeFunction    0.291948\n",
      "Age                         0.201066\n",
      "dtype: float64\n"
     ]
    }
   ],
   "source": [
    "theta = gradientDescent()\n",
    "\n",
    "print(f'Parameters obtained by gradient descent : \\n{theta}')"
   ]
  },
  {
   "cell_type": "markdown",
   "id": "4165fbda",
   "metadata": {},
   "source": [
    "### Predicting the value of the testing set with a decision boundary"
   ]
  },
  {
   "cell_type": "code",
   "execution_count": 400,
   "id": "75fe4acd",
   "metadata": {},
   "outputs": [
    {
     "name": "stdout",
     "output_type": "stream",
     "text": [
      "Efficiency of the model 74.02597402597402%\n"
     ]
    }
   ],
   "source": [
    "threshold = 0.58\n",
    "predictions = hypothesis(theta, X_test)\n",
    "\n",
    "predictions[predictions > threshold] = 1\n",
    "predictions[predictions <= threshold] = 0\n",
    "\n",
    "dif = predictions - y_test\n",
    "\n",
    "correct = len(dif[dif == 0])\n",
    "\n",
    "print(f'Efficiency of the model {correct * 100 / len(y_test)}%')"
   ]
  },
  {
   "cell_type": "markdown",
   "id": "e3dd9e9a",
   "metadata": {},
   "source": [
    "### Some classification metrics"
   ]
  },
  {
   "cell_type": "code",
   "execution_count": 401,
   "id": "dd5d6ddc",
   "metadata": {},
   "outputs": [
    {
     "name": "stdout",
     "output_type": "stream",
     "text": [
      "Confusion matrix : \n",
      "[[121  12]\n",
      " [ 48  50]]\n",
      "Precision : 0.8064516129032258\n"
     ]
    }
   ],
   "source": [
    "from sklearn.metrics import confusion_matrix, precision_score, roc_curve\n",
    "\n",
    "con = confusion_matrix(y_test, predictions)\n",
    "pre = precision_score(y_test, predictions)\n",
    "\n",
    "print(f'Confusion matrix : \\n{con}')\n",
    "print(f'Precision : {pre}')"
   ]
  }
 ],
 "metadata": {
  "kernelspec": {
   "display_name": "Python 3 (ipykernel)",
   "language": "python",
   "name": "python3"
  },
  "language_info": {
   "codemirror_mode": {
    "name": "ipython",
    "version": 3
   },
   "file_extension": ".py",
   "mimetype": "text/x-python",
   "name": "python",
   "nbconvert_exporter": "python",
   "pygments_lexer": "ipython3",
   "version": "3.9.6"
  }
 },
 "nbformat": 4,
 "nbformat_minor": 5
}
